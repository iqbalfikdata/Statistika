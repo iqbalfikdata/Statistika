{
  "nbformat": 4,
  "nbformat_minor": 0,
  "metadata": {
    "colab": {
      "name": "Statistik git",
      "provenance": [],
      "collapsed_sections": [],
      "authorship_tag": "ABX9TyNvy7b5ouRA2wWhdWzyvScs",
      "include_colab_link": true
    },
    "kernelspec": {
      "name": "python3",
      "display_name": "Python 3"
    }
  },
  "cells": [
    {
      "cell_type": "markdown",
      "metadata": {
        "id": "view-in-github",
        "colab_type": "text"
      },
      "source": [
        "<a href=\"https://colab.research.google.com/github/iqbalfikdata/Statistika/blob/master/Statistik_git.ipynb\" target=\"_parent\"><img src=\"https://colab.research.google.com/assets/colab-badge.svg\" alt=\"Open In Colab\"/></a>"
      ]
    },
    {
      "cell_type": "code",
      "metadata": {
        "id": "5xCZKJoQK9Em",
        "colab_type": "code",
        "colab": {}
      },
      "source": [
        "#install researchpy\n",
        "!pip install researchpy"
      ],
      "execution_count": 0,
      "outputs": []
    },
    {
      "cell_type": "code",
      "metadata": {
        "id": "zMQfSuT1JBhD",
        "colab_type": "code",
        "colab": {}
      },
      "source": [
        "#yang kita butuhkan\n",
        "import numpy as np, pandas as pd, researchpy as rp\n",
        "from statsmodels.formula.api import ols\n",
        "from statsmodels.stats.anova import anova_lm\n",
        "from statsmodels.stats.multicomp import MultiComparison, pairwise_tukeyhsd\n",
        "from scipy import stats\n",
        "from itertools import combinations"
      ],
      "execution_count": 0,
      "outputs": []
    },
    {
      "cell_type": "markdown",
      "metadata": {
        "id": "CprYLQjkKhEr",
        "colab_type": "text"
      },
      "source": [
        "**1. Melakukan Uji Statistik Untuk Dua Grup**"
      ]
    },
    {
      "cell_type": "code",
      "metadata": {
        "id": "TD1TM7ENLnSp",
        "colab_type": "code",
        "colab": {}
      },
      "source": [
        "# Membuat helper-function untuk medapatkan hasil statistik dari dua buah grup\n",
        "def uji_2grup(x1, x2, berpasangan=False):\n",
        "  normal, Pnormal = stats.shapiro(x1 - x2)     #uji normalitas\n",
        "  levene, Plevene = stats.levene(x1, x2)       #uji homogenitas\n",
        "  if Pnormal < .05 and Plevene > .05 and berpasangan==False:      #uji non parametrik MannWhitenyU\n",
        "    T, pValue = stats.mannwhitneyu(x1, x2)\n",
        "    if pValue > .05:\n",
        "      print('Uji MannWhitneyU menghasilkan pValue {}, tidak ada perbedaan yang nyata antara 2 grup tsb'.format(pValue))\n",
        "    else:\n",
        "      print('Uji MannWhitneyU menghasilkan pValue {}, ada perbedaan yang signifikan anatara 2 grup tsb'.format(pValue))\n",
        "  elif Pnormal > .05 and Plevene < .05 and berpasangan==False:       #uji welch\n",
        "    desc, hasil = rp.ttest(x1, x2, equal_variances=False)\n",
        "    print(desc)\n",
        "    print(hasil)\n",
        "  elif Pnormal > .05 and Plevene > .05 and berpasangan==False:       #uji T saling bebas\n",
        "    desc, hasil = rp.ttest(x1, x2)\n",
        "    print(desc)\n",
        "    print(hasil)\n",
        "  elif Pnormal > .05 and berpasangan == True:          #uji T yang berpasangan\n",
        "    desc, hasil = rp.ttest(x1, x2, paired=True)\n",
        "    print(desc)\n",
        "    print(hasil)\n",
        "  elif Pnormal < .05 and berpasangan == True:         #uji non paramatrik Wilcoxon\n",
        "    print(rp.ttest(x1, x2, paired=True, equal_variances=False))"
      ],
      "execution_count": 0,
      "outputs": []
    },
    {
      "cell_type": "code",
      "metadata": {
        "id": "sb_W47U6UYQi",
        "colab_type": "code",
        "outputId": "f62f7d27-1929-4dfa-880b-1f319e61fae6",
        "colab": {
          "base_uri": "https://localhost:8080/",
          "height": 141
        }
      },
      "source": [
        "#misalkan ada dua produk saus, saus A dan saus B, masing-masing diambil 6 sample kemudian\n",
        "#diukur tingkat kepedasannya (dengan satuan tertentu), kita ingin tahu apakah kedua saus itu\n",
        "#memiliki tingkat kepedasan yang berbeda secara signifikan\n",
        "\n",
        "x1 = np.array([30, 40, 20, 60, 20, 50])\n",
        "x2 = np.array([90, 70, 50, 100, 60, 80])\n",
        "df = pd.DataFrame({'saus_A':x1, 'saus_B':x2})\n",
        "df.head(3)"
      ],
      "execution_count": 5,
      "outputs": [
        {
          "output_type": "execute_result",
          "data": {
            "text/html": [
              "<div>\n",
              "<style scoped>\n",
              "    .dataframe tbody tr th:only-of-type {\n",
              "        vertical-align: middle;\n",
              "    }\n",
              "\n",
              "    .dataframe tbody tr th {\n",
              "        vertical-align: top;\n",
              "    }\n",
              "\n",
              "    .dataframe thead th {\n",
              "        text-align: right;\n",
              "    }\n",
              "</style>\n",
              "<table border=\"1\" class=\"dataframe\">\n",
              "  <thead>\n",
              "    <tr style=\"text-align: right;\">\n",
              "      <th></th>\n",
              "      <th>saus_A</th>\n",
              "      <th>saus_B</th>\n",
              "    </tr>\n",
              "  </thead>\n",
              "  <tbody>\n",
              "    <tr>\n",
              "      <th>0</th>\n",
              "      <td>30</td>\n",
              "      <td>90</td>\n",
              "    </tr>\n",
              "    <tr>\n",
              "      <th>1</th>\n",
              "      <td>40</td>\n",
              "      <td>70</td>\n",
              "    </tr>\n",
              "    <tr>\n",
              "      <th>2</th>\n",
              "      <td>20</td>\n",
              "      <td>50</td>\n",
              "    </tr>\n",
              "  </tbody>\n",
              "</table>\n",
              "</div>"
            ],
            "text/plain": [
              "   saus_A  saus_B\n",
              "0      30      90\n",
              "1      40      70\n",
              "2      20      50"
            ]
          },
          "metadata": {
            "tags": []
          },
          "execution_count": 5
        }
      ]
    },
    {
      "cell_type": "code",
      "metadata": {
        "id": "nHvRHMBsZokD",
        "colab_type": "code",
        "outputId": "68d7a128-9d75-494d-d028-c4d72cfe8436",
        "colab": {
          "base_uri": "https://localhost:8080/",
          "height": 55
        }
      },
      "source": [
        "uji_2grup(df.saus_A, df.saus_B)"
      ],
      "execution_count": 6,
      "outputs": [
        {
          "output_type": "stream",
          "text": [
            "Uji MannWhitneyU menghasilkan pValue 0.006295955745189842, ada perbedaan yang signifikan anatara 2 grup tsb\n"
          ],
          "name": "stdout"
        }
      ]
    },
    {
      "cell_type": "code",
      "metadata": {
        "id": "08-NCGfMaJcz",
        "colab_type": "code",
        "colab": {}
      },
      "source": [
        "#Well, ternyata apa yang baru kita lakukan termasuk uji Mann WhitneyU, dan hasilnya adalah bahwa\n",
        "#saus A dam saus B memiliki rasa pedas yang berbeda secara signifikan (tolak H0)\n",
        "pass"
      ],
      "execution_count": 0,
      "outputs": []
    },
    {
      "cell_type": "code",
      "metadata": {
        "id": "1-NDN8Zoaogn",
        "colab_type": "code",
        "outputId": "917598cd-5ffb-4ce8-f78c-5835d69c54b7",
        "colab": {
          "base_uri": "https://localhost:8080/",
          "height": 202
        }
      },
      "source": [
        "#misalkan seorang dosen menggunakan metode mengajar X terhadap 22 mahasiswa, lalu ia mencatat skor\n",
        "#hasil belajar matematika mereka antara sebelum dan sesudah menggunakan metode X tadi, ia ingin\n",
        "#mengetahui apakah metode tsb berhasil secara signifikan memberi perubahan terhadap hasil belajarnya\n",
        "\n",
        "x3 = [56, 72, 67, 58, 70, 68, 76, 70, 69, 58, 65, 70, 75, 67, 72, 74, 76, 68,\n",
        "     62, 70, 61, 77]\n",
        "x4 = [87, 92, 87, 62, 89, 86, 90, 86, 80, 85, 90, 83, 80, 87, 82, 80, 83, 82,\n",
        "     89, 85, 92, 85]\n",
        "df1 = pd.DataFrame({'pre':x3, 'post':x4})\n",
        "df1.tail()"
      ],
      "execution_count": 8,
      "outputs": [
        {
          "output_type": "execute_result",
          "data": {
            "text/html": [
              "<div>\n",
              "<style scoped>\n",
              "    .dataframe tbody tr th:only-of-type {\n",
              "        vertical-align: middle;\n",
              "    }\n",
              "\n",
              "    .dataframe tbody tr th {\n",
              "        vertical-align: top;\n",
              "    }\n",
              "\n",
              "    .dataframe thead th {\n",
              "        text-align: right;\n",
              "    }\n",
              "</style>\n",
              "<table border=\"1\" class=\"dataframe\">\n",
              "  <thead>\n",
              "    <tr style=\"text-align: right;\">\n",
              "      <th></th>\n",
              "      <th>pre</th>\n",
              "      <th>post</th>\n",
              "    </tr>\n",
              "  </thead>\n",
              "  <tbody>\n",
              "    <tr>\n",
              "      <th>17</th>\n",
              "      <td>68</td>\n",
              "      <td>82</td>\n",
              "    </tr>\n",
              "    <tr>\n",
              "      <th>18</th>\n",
              "      <td>62</td>\n",
              "      <td>89</td>\n",
              "    </tr>\n",
              "    <tr>\n",
              "      <th>19</th>\n",
              "      <td>70</td>\n",
              "      <td>85</td>\n",
              "    </tr>\n",
              "    <tr>\n",
              "      <th>20</th>\n",
              "      <td>61</td>\n",
              "      <td>92</td>\n",
              "    </tr>\n",
              "    <tr>\n",
              "      <th>21</th>\n",
              "      <td>77</td>\n",
              "      <td>85</td>\n",
              "    </tr>\n",
              "  </tbody>\n",
              "</table>\n",
              "</div>"
            ],
            "text/plain": [
              "    pre  post\n",
              "17   68    82\n",
              "18   62    89\n",
              "19   70    85\n",
              "20   61    92\n",
              "21   77    85"
            ]
          },
          "metadata": {
            "tags": []
          },
          "execution_count": 8
        }
      ]
    },
    {
      "cell_type": "code",
      "metadata": {
        "id": "Q5kQoGUdc2gm",
        "colab_type": "code",
        "outputId": "72e4b4b0-63e5-4e6c-c306-79c210592c94",
        "colab": {
          "base_uri": "https://localhost:8080/",
          "height": 277
        }
      },
      "source": [
        "uji_2grup(df1.pre, df1.post, berpasangan=True)"
      ],
      "execution_count": 9,
      "outputs": [
        {
          "output_type": "stream",
          "text": [
            "  Variable     N       Mean        SD        SE  95% Conf.   Interval\n",
            "0      pre  22.0  68.227273  6.101770  1.300902  65.521899  70.932646\n",
            "1     post  22.0  84.636364  6.252965  1.333137  81.863954  87.408773\n",
            "2     diff  22.0 -16.409091  8.221106  1.752746 -20.054125 -12.764057\n",
            "        Paired samples t-test  results\n",
            "0  Difference (pre - post) =  -16.4091\n",
            "1       Degrees of freedom =   21.0000\n",
            "2                        t =   -9.3619\n",
            "3    Two side test p value =    0.0000\n",
            "4   Difference < 0 p value =    0.0000\n",
            "5   Difference > 0 p value =    1.0000\n",
            "6                Cohen's d =   -1.9960\n",
            "7                Hedge's g =   -1.9601\n",
            "8            Glass's delta =   -2.6892\n",
            "9                        r =    0.8982\n"
          ],
          "name": "stdout"
        }
      ]
    },
    {
      "cell_type": "code",
      "metadata": {
        "id": "8rCtuGY3iRRE",
        "colab_type": "code",
        "colab": {}
      },
      "source": [
        "#dari table diatas, kita lihat bahwa Pvalue nya relatif kecil sekali (<0,05), artinya kita bisa\n",
        "#menerima H1, yaitu bahwa metode mengajar X memang bisa memberikan hasil belajar yang berbeda\n",
        "#secara signifikan\n",
        "\n",
        "#dengan menggunakan researchpy, banyak informasi berguna yang kita dapatkan dari pada menggunkan\n",
        "#scipy, dari tabel diatas bisa kita lihat nilai Cohen's d dan Hedge's g yang merupakan ukuran\n",
        "#kekuatan efek(seberapa jauh 2 grup diatas berbeda), untuk nilai yang > 0,8 dikatan bahwa kekuatan\n",
        "#efek nya lumayan besar, sehingga dapat kita katakan bahwa perbedaan dari kedua hasi tes belajar mereka\n",
        "#lumayan besar (tanda negatif pada nilai ini abaikan saja)\n",
        "\n",
        "#Kesimpulannya: Metode mengajar X membawa efek yang lumayan besar dalam membuat perbedaan hasil\n",
        "#belajar mahasiswa\n",
        "pass"
      ],
      "execution_count": 0,
      "outputs": []
    },
    {
      "cell_type": "code",
      "metadata": {
        "id": "yIXyQzU7gECI",
        "colab_type": "code",
        "outputId": "07248bd7-cbcc-4f2a-8031-d73dcbe4eafe",
        "colab": {
          "base_uri": "https://localhost:8080/",
          "height": 202
        }
      },
      "source": [
        "#seorang menejer suatu perusahaan mengundang Trainer untuk memotivasi karyawannya, ia meminta\n",
        "#seorang statistik untuk mengetahui apakah Trainer tsb bisa memberi perbedaan yang nyata terhadap\n",
        "#produktivitas karyawannya, lalu sang menejer memberikan data nilai produktivitas karyawan antara\n",
        "#sebelum dan sesudah mengundang Trainer (dalam satuan tertentu)\n",
        "\n",
        "x7 = np.array([67, 84, 76, 34, 31, 79, 88, 47, 35, 41, 34, 37, 32, 26, 90])\n",
        "x8 = np.array([75, 90, 88, 42, 47, 82, 77, 55, 37, 50, 44, 46, 46, 38, 93])\n",
        "df2 = pd.DataFrame({'sebelum_training':x7, 'sesudah_training':x8})\n",
        "df2.sample(5, random_state=2020)"
      ],
      "execution_count": 11,
      "outputs": [
        {
          "output_type": "execute_result",
          "data": {
            "text/html": [
              "<div>\n",
              "<style scoped>\n",
              "    .dataframe tbody tr th:only-of-type {\n",
              "        vertical-align: middle;\n",
              "    }\n",
              "\n",
              "    .dataframe tbody tr th {\n",
              "        vertical-align: top;\n",
              "    }\n",
              "\n",
              "    .dataframe thead th {\n",
              "        text-align: right;\n",
              "    }\n",
              "</style>\n",
              "<table border=\"1\" class=\"dataframe\">\n",
              "  <thead>\n",
              "    <tr style=\"text-align: right;\">\n",
              "      <th></th>\n",
              "      <th>sebelum_training</th>\n",
              "      <th>sesudah_training</th>\n",
              "    </tr>\n",
              "  </thead>\n",
              "  <tbody>\n",
              "    <tr>\n",
              "      <th>9</th>\n",
              "      <td>41</td>\n",
              "      <td>50</td>\n",
              "    </tr>\n",
              "    <tr>\n",
              "      <th>1</th>\n",
              "      <td>84</td>\n",
              "      <td>90</td>\n",
              "    </tr>\n",
              "    <tr>\n",
              "      <th>2</th>\n",
              "      <td>76</td>\n",
              "      <td>88</td>\n",
              "    </tr>\n",
              "    <tr>\n",
              "      <th>4</th>\n",
              "      <td>31</td>\n",
              "      <td>47</td>\n",
              "    </tr>\n",
              "    <tr>\n",
              "      <th>11</th>\n",
              "      <td>37</td>\n",
              "      <td>46</td>\n",
              "    </tr>\n",
              "  </tbody>\n",
              "</table>\n",
              "</div>"
            ],
            "text/plain": [
              "    sebelum_training  sesudah_training\n",
              "9                 41                50\n",
              "1                 84                90\n",
              "2                 76                88\n",
              "4                 31                47\n",
              "11                37                46"
            ]
          },
          "metadata": {
            "tags": []
          },
          "execution_count": 11
        }
      ]
    },
    {
      "cell_type": "code",
      "metadata": {
        "id": "gNtB1XNGgod9",
        "colab_type": "code",
        "outputId": "be342615-dce9-4afd-83fd-a37346698ba2",
        "colab": {
          "base_uri": "https://localhost:8080/",
          "height": 139
        }
      },
      "source": [
        "uji_2grup(df2.sebelum_training, df2.sesudah_training, berpasangan=True)"
      ],
      "execution_count": 12,
      "outputs": [
        {
          "output_type": "stream",
          "text": [
            "      Wilcoxon signed-rank test    results\n",
            "0  Mean for sebelum_training =   53.400000\n",
            "1  Mean for sesudah_training =   60.666667\n",
            "2                    T value =   11.000000\n",
            "3                    Z value =   -2.783000\n",
            "4          Two sided p value =    0.005800\n",
            "5                          r =   -0.508100\n"
          ],
          "name": "stdout"
        }
      ]
    },
    {
      "cell_type": "code",
      "metadata": {
        "id": "2TlS9RyzhIzF",
        "colab_type": "code",
        "colab": {}
      },
      "source": [
        "#Ternyata ini termasuk dalam uji Wilcoxon, dari sana kita lihat bahwa nilai Pvalue nya < 0,05\n",
        "#Berarti Trainer tsb berhasil membawa perbedaan yang nyata terhadap produktivitas karyawan disana\n",
        "#Terima H1\n",
        "pass"
      ],
      "execution_count": 0,
      "outputs": []
    },
    {
      "cell_type": "code",
      "metadata": {
        "id": "kx9YTN5L_5V3",
        "colab_type": "code",
        "outputId": "46cc07d9-b923-4514-fd4b-074016a3d048",
        "colab": {
          "base_uri": "https://localhost:8080/",
          "height": 202
        }
      },
      "source": [
        "#Berikut disajikan kekuatan durasi nyala lampu (dalam hari)\n",
        "#apakah ada perbedaan rata-rata nyala lampu P dengan nyala lampu Q secara signifikan?\n",
        "\n",
        "x5 = np.array([63, 54, 72, 63, 45, 54, 45, 54, 54, 63, 54, 54])\n",
        "x6 = np.array([72, 54, 63, 72, 54, 54, 62, 65, 70, 62, 55, 63])\n",
        "df3 = pd.DataFrame({'lampu_P':x5, 'lampu_Q':x6})\n",
        "df3.head()"
      ],
      "execution_count": 14,
      "outputs": [
        {
          "output_type": "execute_result",
          "data": {
            "text/html": [
              "<div>\n",
              "<style scoped>\n",
              "    .dataframe tbody tr th:only-of-type {\n",
              "        vertical-align: middle;\n",
              "    }\n",
              "\n",
              "    .dataframe tbody tr th {\n",
              "        vertical-align: top;\n",
              "    }\n",
              "\n",
              "    .dataframe thead th {\n",
              "        text-align: right;\n",
              "    }\n",
              "</style>\n",
              "<table border=\"1\" class=\"dataframe\">\n",
              "  <thead>\n",
              "    <tr style=\"text-align: right;\">\n",
              "      <th></th>\n",
              "      <th>lampu_P</th>\n",
              "      <th>lampu_Q</th>\n",
              "    </tr>\n",
              "  </thead>\n",
              "  <tbody>\n",
              "    <tr>\n",
              "      <th>0</th>\n",
              "      <td>63</td>\n",
              "      <td>72</td>\n",
              "    </tr>\n",
              "    <tr>\n",
              "      <th>1</th>\n",
              "      <td>54</td>\n",
              "      <td>54</td>\n",
              "    </tr>\n",
              "    <tr>\n",
              "      <th>2</th>\n",
              "      <td>72</td>\n",
              "      <td>63</td>\n",
              "    </tr>\n",
              "    <tr>\n",
              "      <th>3</th>\n",
              "      <td>63</td>\n",
              "      <td>72</td>\n",
              "    </tr>\n",
              "    <tr>\n",
              "      <th>4</th>\n",
              "      <td>45</td>\n",
              "      <td>54</td>\n",
              "    </tr>\n",
              "  </tbody>\n",
              "</table>\n",
              "</div>"
            ],
            "text/plain": [
              "   lampu_P  lampu_Q\n",
              "0       63       72\n",
              "1       54       54\n",
              "2       72       63\n",
              "3       63       72\n",
              "4       45       54"
            ]
          },
          "metadata": {
            "tags": []
          },
          "execution_count": 14
        }
      ]
    },
    {
      "cell_type": "code",
      "metadata": {
        "id": "XiFmyA3hIbV9",
        "colab_type": "code",
        "outputId": "c0a51529-94e5-4fad-f20e-bc511d62837a",
        "colab": {
          "base_uri": "https://localhost:8080/",
          "height": 277
        }
      },
      "source": [
        "uji_2grup(df3.lampu_P, df3.lampu_Q)"
      ],
      "execution_count": 15,
      "outputs": [
        {
          "output_type": "stream",
          "text": [
            "   Variable     N       Mean        SD        SE  95% Conf.   Interval\n",
            "0   lampu_P  12.0  56.250000  7.794229  2.250000  51.297783  61.202217\n",
            "1   lampu_Q  12.0  62.166667  6.846809  1.976503  57.816412  66.516921\n",
            "2  combined  24.0  59.208333  7.785042  1.589115  55.920998  62.495668\n",
            "                  Independent t-test  results\n",
            "0  Difference (lampu_P - lampu_Q) =   -5.9167\n",
            "1              Degrees of freedom =   22.0000\n",
            "2                               t =   -1.9756\n",
            "3           Two side test p value =    0.0609\n",
            "4          Difference < 0 p value =    0.0304\n",
            "5          Difference > 0 p value =    0.9696\n",
            "6                       Cohen's d =   -0.8065\n",
            "7                       Hedge's g =   -0.7787\n",
            "8                   Glass's delta =   -0.7591\n",
            "9                               r =    0.3882\n"
          ],
          "name": "stdout"
        }
      ]
    },
    {
      "cell_type": "code",
      "metadata": {
        "id": "oJorh-X8IlLZ",
        "colab_type": "code",
        "colab": {}
      },
      "source": [
        "#Termasuk uji T saling bebas, p value nya > 0,05, artinya kita gagal menolak H0\n",
        "#kesimpulannya: tidak ada perbedaan yang berarti antara nyala lampu merek P dengan nyala lampu merek Q\n",
        "pass"
      ],
      "execution_count": 0,
      "outputs": []
    },
    {
      "cell_type": "markdown",
      "metadata": {
        "id": "e-oJqYCLK6dg",
        "colab_type": "text"
      },
      "source": [
        "**2. Melakukan Uji Frekuensi**"
      ]
    },
    {
      "cell_type": "code",
      "metadata": {
        "id": "nB-NzzBfI8RM",
        "colab_type": "code",
        "colab": {}
      },
      "source": [
        "#membuat helper-function\n",
        "def uji_frek(x, berpasangan=False):\n",
        "  if  x.ndim ==1 and berpasangan==False:\n",
        "    chi, p = stats.chisquare(x)\n",
        "    if p > .05:\n",
        "      print('karena nilai p = {}, kejadian ini terjadi secara alami'.format(p))\n",
        "    else: print('nilai p = {}, ada faktor luar yang membuat kejadian ini bisa terjadi'.format(p))\n",
        "  elif x.ndim ==2 and berpasangan==False:\n",
        "    chi, p, dof, ex = stats.chi2_contingency(x)\n",
        "    if p > 0.05:\n",
        "      print('uji chi2 kontingensi p = {}, ini terjadi secara alami'.format(p))\n",
        "    else: print('uji chi2 kontingensi p = {} , ada faktor luar yang membuat hal ini bisa terjadi'.format(p))\n",
        "  elif x.ndim ==2 and berpasangan==True:\n",
        "    tabel, hasil = rp.crosstab(x.iloc[:,0], x.iloc[:,1], test='mcnemar')\n",
        "    print(tabel)\n",
        "    print(hasil)"
      ],
      "execution_count": 0,
      "outputs": []
    },
    {
      "cell_type": "code",
      "metadata": {
        "id": "u5G_2ZxWOTPj",
        "colab_type": "code",
        "outputId": "a760c37d-6681-4486-99d9-abd6654cc361",
        "colab": {
          "base_uri": "https://localhost:8080/",
          "height": 263
        }
      },
      "source": [
        "#seorang menejer perusahaan sebuah pabrik kartu olahraga merencanakan membuat seri kartu dengan\n",
        "#gambar pemain sepakbola terkenal. Pemain tersebut adalah Messi, Ronaldo, Sneidjer, Torres, Xavi\n",
        "#dan Gerrard. Di hari terakhir ia behasil menjual 120 kartu dengan sebaran sebagai berikut\n",
        "\n",
        "pemain = ['Messi', 'Ronaldo', 'Sneidjer', 'Torres', 'Xavi', 'Gerrard']\n",
        "terjual = [13, 33, 14, 7, 36, 17]\n",
        "data = pd.DataFrame({'pemain':pemain, 'terjual':terjual}).set_index('pemain')\n",
        "data"
      ],
      "execution_count": 18,
      "outputs": [
        {
          "output_type": "execute_result",
          "data": {
            "text/html": [
              "<div>\n",
              "<style scoped>\n",
              "    .dataframe tbody tr th:only-of-type {\n",
              "        vertical-align: middle;\n",
              "    }\n",
              "\n",
              "    .dataframe tbody tr th {\n",
              "        vertical-align: top;\n",
              "    }\n",
              "\n",
              "    .dataframe thead th {\n",
              "        text-align: right;\n",
              "    }\n",
              "</style>\n",
              "<table border=\"1\" class=\"dataframe\">\n",
              "  <thead>\n",
              "    <tr style=\"text-align: right;\">\n",
              "      <th></th>\n",
              "      <th>terjual</th>\n",
              "    </tr>\n",
              "    <tr>\n",
              "      <th>pemain</th>\n",
              "      <th></th>\n",
              "    </tr>\n",
              "  </thead>\n",
              "  <tbody>\n",
              "    <tr>\n",
              "      <th>Messi</th>\n",
              "      <td>13</td>\n",
              "    </tr>\n",
              "    <tr>\n",
              "      <th>Ronaldo</th>\n",
              "      <td>33</td>\n",
              "    </tr>\n",
              "    <tr>\n",
              "      <th>Sneidjer</th>\n",
              "      <td>14</td>\n",
              "    </tr>\n",
              "    <tr>\n",
              "      <th>Torres</th>\n",
              "      <td>7</td>\n",
              "    </tr>\n",
              "    <tr>\n",
              "      <th>Xavi</th>\n",
              "      <td>36</td>\n",
              "    </tr>\n",
              "    <tr>\n",
              "      <th>Gerrard</th>\n",
              "      <td>17</td>\n",
              "    </tr>\n",
              "  </tbody>\n",
              "</table>\n",
              "</div>"
            ],
            "text/plain": [
              "          terjual\n",
              "pemain           \n",
              "Messi          13\n",
              "Ronaldo        33\n",
              "Sneidjer       14\n",
              "Torres          7\n",
              "Xavi           36\n",
              "Gerrard        17"
            ]
          },
          "metadata": {
            "tags": []
          },
          "execution_count": 18
        }
      ]
    },
    {
      "cell_type": "code",
      "metadata": {
        "id": "dwkdudzjVZAu",
        "colab_type": "code",
        "outputId": "c88d39ff-32c7-4db6-c477-b1644db966c9",
        "colab": {
          "base_uri": "https://localhost:8080/",
          "height": 35
        }
      },
      "source": [
        "#dari tabel diatas, kita ingin tahu apakah sebaran itu terjadi secara alami atau ada faktor luar\n",
        "#dalam hal ini gambar pemain menentukan sebaran terjualnya kartu ?\n",
        "\n",
        "uji_frek(data.terjual, berpasangan=False)"
      ],
      "execution_count": 19,
      "outputs": [
        {
          "output_type": "stream",
          "text": [
            "nilai p = 1.9819328179330533e-06, ada faktor luar yang membuat kejadian ini bisa terjadi\n"
          ],
          "name": "stdout"
        }
      ]
    },
    {
      "cell_type": "code",
      "metadata": {
        "id": "ZyTPzUPqYWs4",
        "colab_type": "code",
        "outputId": "6f02a634-cadb-4c06-9494-f5030a413d61",
        "colab": {
          "base_uri": "https://localhost:8080/",
          "height": 141
        }
      },
      "source": [
        "#Sekarang, kita akan meneliti apakah jenis kelamin menentukan partai yang akan dipilih\n",
        "\n",
        "data1 = pd.DataFrame({'partai_A':[26, 20], 'partai_B':[13, 29], 'partai_C':[5, 7],\n",
        "                 'jenis_kelamin':['laki-laki', 'perempuan']}).set_index('jenis_kelamin')\n",
        "data1"
      ],
      "execution_count": 20,
      "outputs": [
        {
          "output_type": "execute_result",
          "data": {
            "text/html": [
              "<div>\n",
              "<style scoped>\n",
              "    .dataframe tbody tr th:only-of-type {\n",
              "        vertical-align: middle;\n",
              "    }\n",
              "\n",
              "    .dataframe tbody tr th {\n",
              "        vertical-align: top;\n",
              "    }\n",
              "\n",
              "    .dataframe thead th {\n",
              "        text-align: right;\n",
              "    }\n",
              "</style>\n",
              "<table border=\"1\" class=\"dataframe\">\n",
              "  <thead>\n",
              "    <tr style=\"text-align: right;\">\n",
              "      <th></th>\n",
              "      <th>partai_A</th>\n",
              "      <th>partai_B</th>\n",
              "      <th>partai_C</th>\n",
              "    </tr>\n",
              "    <tr>\n",
              "      <th>jenis_kelamin</th>\n",
              "      <th></th>\n",
              "      <th></th>\n",
              "      <th></th>\n",
              "    </tr>\n",
              "  </thead>\n",
              "  <tbody>\n",
              "    <tr>\n",
              "      <th>laki-laki</th>\n",
              "      <td>26</td>\n",
              "      <td>13</td>\n",
              "      <td>5</td>\n",
              "    </tr>\n",
              "    <tr>\n",
              "      <th>perempuan</th>\n",
              "      <td>20</td>\n",
              "      <td>29</td>\n",
              "      <td>7</td>\n",
              "    </tr>\n",
              "  </tbody>\n",
              "</table>\n",
              "</div>"
            ],
            "text/plain": [
              "               partai_A  partai_B  partai_C\n",
              "jenis_kelamin                              \n",
              "laki-laki            26        13         5\n",
              "perempuan            20        29         7"
            ]
          },
          "metadata": {
            "tags": []
          },
          "execution_count": 20
        }
      ]
    },
    {
      "cell_type": "code",
      "metadata": {
        "id": "4e-Ydfe6YvKF",
        "colab_type": "code",
        "outputId": "d90177af-7b9d-42a8-bd3b-ac92743e337b",
        "colab": {
          "base_uri": "https://localhost:8080/",
          "height": 35
        }
      },
      "source": [
        "uji_frek(data1, berpasangan=False)"
      ],
      "execution_count": 21,
      "outputs": [
        {
          "output_type": "stream",
          "text": [
            "uji chi2 kontingensi p = 0.05351733509077522, ini terjadi secara alami\n"
          ],
          "name": "stdout"
        }
      ]
    },
    {
      "cell_type": "code",
      "metadata": {
        "id": "ye7hEgbuY2J7",
        "colab_type": "code",
        "colab": {}
      },
      "source": [
        "#Karena nilai P value nya > 0,05, kejadiannya terjadi secara alami atau dalam pemilihan sebuah partai\n",
        "#itu tidak ditentukan oleh jenis kelamin (gagal menolak H0)\n",
        "pass"
      ],
      "execution_count": 0,
      "outputs": []
    },
    {
      "cell_type": "code",
      "metadata": {
        "id": "0gt8ZNv6ZNvt",
        "colab_type": "code",
        "outputId": "b8587913-3127-43c2-e63f-1ffde043409d",
        "colab": {
          "base_uri": "https://localhost:8080/",
          "height": 202
        }
      },
      "source": [
        "#Seorang peneliti ingin mengetahui apakah tehnik marketing X dapat membuat pembeli mau membeli suatu\n",
        "#produk, diambillah sampel pembeli sebanyak 80 orang dan dicatat apakah ia mau membeli atau tidak setelah\n",
        "#dan sebelum tehnik marketing X dilakukan, berikut datanya\n",
        "\n",
        "sebelum = np.random.randint(0, 2, 80)\n",
        "sesudah = np.random.randint(0, 2, 80)\n",
        "data2 = pd.DataFrame({'sebelum':sebelum, 'sesudah':sesudah})\n",
        "data2.sample(5)"
      ],
      "execution_count": 24,
      "outputs": [
        {
          "output_type": "execute_result",
          "data": {
            "text/html": [
              "<div>\n",
              "<style scoped>\n",
              "    .dataframe tbody tr th:only-of-type {\n",
              "        vertical-align: middle;\n",
              "    }\n",
              "\n",
              "    .dataframe tbody tr th {\n",
              "        vertical-align: top;\n",
              "    }\n",
              "\n",
              "    .dataframe thead th {\n",
              "        text-align: right;\n",
              "    }\n",
              "</style>\n",
              "<table border=\"1\" class=\"dataframe\">\n",
              "  <thead>\n",
              "    <tr style=\"text-align: right;\">\n",
              "      <th></th>\n",
              "      <th>sebelum</th>\n",
              "      <th>sesudah</th>\n",
              "    </tr>\n",
              "  </thead>\n",
              "  <tbody>\n",
              "    <tr>\n",
              "      <th>72</th>\n",
              "      <td>0</td>\n",
              "      <td>0</td>\n",
              "    </tr>\n",
              "    <tr>\n",
              "      <th>51</th>\n",
              "      <td>1</td>\n",
              "      <td>0</td>\n",
              "    </tr>\n",
              "    <tr>\n",
              "      <th>29</th>\n",
              "      <td>1</td>\n",
              "      <td>0</td>\n",
              "    </tr>\n",
              "    <tr>\n",
              "      <th>76</th>\n",
              "      <td>0</td>\n",
              "      <td>1</td>\n",
              "    </tr>\n",
              "    <tr>\n",
              "      <th>78</th>\n",
              "      <td>1</td>\n",
              "      <td>0</td>\n",
              "    </tr>\n",
              "  </tbody>\n",
              "</table>\n",
              "</div>"
            ],
            "text/plain": [
              "    sebelum  sesudah\n",
              "72        0        0\n",
              "51        1        0\n",
              "29        1        0\n",
              "76        0        1\n",
              "78        1        0"
            ]
          },
          "metadata": {
            "tags": []
          },
          "execution_count": 24
        }
      ]
    },
    {
      "cell_type": "code",
      "metadata": {
        "id": "ipT-G0CydT0w",
        "colab_type": "code",
        "outputId": "877c85cf-1542-41c4-f47c-c8c3eb0a822e",
        "colab": {
          "base_uri": "https://localhost:8080/",
          "height": 191
        }
      },
      "source": [
        "#0 = tidak mau membeli, 1=mau membeli\n",
        "uji_frek(data2, berpasangan=True)"
      ],
      "execution_count": 25,
      "outputs": [
        {
          "output_type": "stream",
          "text": [
            "        sesudah        \n",
            "              0   1 All\n",
            "sebelum                \n",
            "0            16  21  37\n",
            "1            23  20  43\n",
            "All          39  41  80\n",
            "                          McNemar  results\n",
            "0  McNemar's Chi-square ( 1.0) =    0.0909\n",
            "1                      p-value =    0.7630\n",
            "2                 Cramer's phi =    0.0337\n"
          ],
          "name": "stdout"
        }
      ]
    },
    {
      "cell_type": "code",
      "metadata": {
        "id": "2VfOgzsOdyPK",
        "colab_type": "code",
        "colab": {}
      },
      "source": [
        "#Tenyata kita dapatkan bahwa p value nya = 0.34, karena nilainya > 0,05 maka dapat dikatakan bahwa\n",
        "#kita gagal menolak H0, yang berarti metode marketing X tidak mempengaruhi mau atau tidak nya pembeli\n",
        "#atas produk yang ditawarkan\n",
        "pass"
      ],
      "execution_count": 0,
      "outputs": []
    },
    {
      "cell_type": "markdown",
      "metadata": {
        "id": "Bzml6M3RelXu",
        "colab_type": "text"
      },
      "source": [
        "**3. Uji Statistik Untuk Lebih Dari Dua Grup**"
      ]
    },
    {
      "cell_type": "code",
      "metadata": {
        "id": "Xg32C04jeu4Z",
        "colab_type": "code",
        "outputId": "b5b0b580-b40a-4cd1-b10a-c40bb8b47872",
        "colab": {
          "base_uri": "https://localhost:8080/",
          "height": 202
        }
      },
      "source": [
        "#Berikut disajikan data jumlah penjualan (dalam unit) hp merek samsung, oppo, vivo, lenovo\n",
        "#di hari terakhir\n",
        "\n",
        "#Empat hal yang ingin kita jawab adalah:\n",
        "#1. Apakah merek hp mempengaruhi hasil penjualan ?\n",
        "#2. Jika mempengaruhi, seberapa besar efeknya ?\n",
        "#3. Apakah ada perbedaan rata-rata penjualan antara keempat merek hp tsb ?\n",
        "#4. Merek manakah yang rata-rata nya berbeda secara signifikan ?\n",
        "\n",
        "aov = pd.read_csv('/content/anova_one.csv')\n",
        "aov.head()"
      ],
      "execution_count": 29,
      "outputs": [
        {
          "output_type": "execute_result",
          "data": {
            "text/html": [
              "<div>\n",
              "<style scoped>\n",
              "    .dataframe tbody tr th:only-of-type {\n",
              "        vertical-align: middle;\n",
              "    }\n",
              "\n",
              "    .dataframe tbody tr th {\n",
              "        vertical-align: top;\n",
              "    }\n",
              "\n",
              "    .dataframe thead th {\n",
              "        text-align: right;\n",
              "    }\n",
              "</style>\n",
              "<table border=\"1\" class=\"dataframe\">\n",
              "  <thead>\n",
              "    <tr style=\"text-align: right;\">\n",
              "      <th></th>\n",
              "      <th>Unnamed: 0</th>\n",
              "      <th>samsung</th>\n",
              "      <th>oppo</th>\n",
              "      <th>vivo</th>\n",
              "      <th>lenovo</th>\n",
              "    </tr>\n",
              "  </thead>\n",
              "  <tbody>\n",
              "    <tr>\n",
              "      <th>0</th>\n",
              "      <td>0</td>\n",
              "      <td>52</td>\n",
              "      <td>48</td>\n",
              "      <td>34</td>\n",
              "      <td>32</td>\n",
              "    </tr>\n",
              "    <tr>\n",
              "      <th>1</th>\n",
              "      <td>1</td>\n",
              "      <td>45</td>\n",
              "      <td>36</td>\n",
              "      <td>32</td>\n",
              "      <td>33</td>\n",
              "    </tr>\n",
              "    <tr>\n",
              "      <th>2</th>\n",
              "      <td>2</td>\n",
              "      <td>48</td>\n",
              "      <td>33</td>\n",
              "      <td>37</td>\n",
              "      <td>36</td>\n",
              "    </tr>\n",
              "    <tr>\n",
              "      <th>3</th>\n",
              "      <td>3</td>\n",
              "      <td>36</td>\n",
              "      <td>38</td>\n",
              "      <td>35</td>\n",
              "      <td>39</td>\n",
              "    </tr>\n",
              "    <tr>\n",
              "      <th>4</th>\n",
              "      <td>4</td>\n",
              "      <td>39</td>\n",
              "      <td>49</td>\n",
              "      <td>42</td>\n",
              "      <td>38</td>\n",
              "    </tr>\n",
              "  </tbody>\n",
              "</table>\n",
              "</div>"
            ],
            "text/plain": [
              "   Unnamed: 0  samsung  oppo  vivo  lenovo\n",
              "0           0       52    48    34      32\n",
              "1           1       45    36    32      33\n",
              "2           2       48    33    37      36\n",
              "3           3       36    38    35      39\n",
              "4           4       39    49    42      38"
            ]
          },
          "metadata": {
            "tags": []
          },
          "execution_count": 29
        }
      ]
    },
    {
      "cell_type": "code",
      "metadata": {
        "id": "Ny7jCR09kV8-",
        "colab_type": "code",
        "outputId": "1d558ef6-2300-44b8-c347-24e2d480aae1",
        "colab": {
          "base_uri": "https://localhost:8080/",
          "height": 202
        }
      },
      "source": [
        "#sebelumnya, kita akan modifikasi tabel diatas sehingga merek hp menjadi variabel prediktor\n",
        "#dan hasil penjualannya menjadi variabel target\n",
        "\n",
        "aov = pd.melt(aov, id_vars='Unnamed: 0', var_name='Merek', value_name='penjualan')\n",
        "aov.sample(5)"
      ],
      "execution_count": 30,
      "outputs": [
        {
          "output_type": "execute_result",
          "data": {
            "text/html": [
              "<div>\n",
              "<style scoped>\n",
              "    .dataframe tbody tr th:only-of-type {\n",
              "        vertical-align: middle;\n",
              "    }\n",
              "\n",
              "    .dataframe tbody tr th {\n",
              "        vertical-align: top;\n",
              "    }\n",
              "\n",
              "    .dataframe thead th {\n",
              "        text-align: right;\n",
              "    }\n",
              "</style>\n",
              "<table border=\"1\" class=\"dataframe\">\n",
              "  <thead>\n",
              "    <tr style=\"text-align: right;\">\n",
              "      <th></th>\n",
              "      <th>Unnamed: 0</th>\n",
              "      <th>Merek</th>\n",
              "      <th>penjualan</th>\n",
              "    </tr>\n",
              "  </thead>\n",
              "  <tbody>\n",
              "    <tr>\n",
              "      <th>20</th>\n",
              "      <td>0</td>\n",
              "      <td>vivo</td>\n",
              "      <td>34</td>\n",
              "    </tr>\n",
              "    <tr>\n",
              "      <th>18</th>\n",
              "      <td>8</td>\n",
              "      <td>oppo</td>\n",
              "      <td>40</td>\n",
              "    </tr>\n",
              "    <tr>\n",
              "      <th>2</th>\n",
              "      <td>2</td>\n",
              "      <td>samsung</td>\n",
              "      <td>48</td>\n",
              "    </tr>\n",
              "    <tr>\n",
              "      <th>35</th>\n",
              "      <td>5</td>\n",
              "      <td>lenovo</td>\n",
              "      <td>35</td>\n",
              "    </tr>\n",
              "    <tr>\n",
              "      <th>22</th>\n",
              "      <td>2</td>\n",
              "      <td>vivo</td>\n",
              "      <td>37</td>\n",
              "    </tr>\n",
              "  </tbody>\n",
              "</table>\n",
              "</div>"
            ],
            "text/plain": [
              "    Unnamed: 0    Merek  penjualan\n",
              "20           0     vivo         34\n",
              "18           8     oppo         40\n",
              "2            2  samsung         48\n",
              "35           5   lenovo         35\n",
              "22           2     vivo         37"
            ]
          },
          "metadata": {
            "tags": []
          },
          "execution_count": 30
        }
      ]
    },
    {
      "cell_type": "code",
      "metadata": {
        "id": "rMNaKUkNnynS",
        "colab_type": "code",
        "outputId": "33536b77-99e1-4dca-bf0c-e93eb09e67e5",
        "colab": {
          "base_uri": "https://localhost:8080/",
          "height": 537
        }
      },
      "source": [
        "#melakukan analisis varians dengan menggunakan statsmodels\n",
        "\n",
        "model = ols('penjualan ~ C(Merek)', data=aov).fit()\n",
        "aov_df = anova_lm(model)\n",
        "print(model.summary())\n",
        "print(aov_df)"
      ],
      "execution_count": 31,
      "outputs": [
        {
          "output_type": "stream",
          "text": [
            "                            OLS Regression Results                            \n",
            "==============================================================================\n",
            "Dep. Variable:              penjualan   R-squared:                       0.270\n",
            "Model:                            OLS   Adj. R-squared:                  0.209\n",
            "Method:                 Least Squares   F-statistic:                     4.445\n",
            "Date:                Sat, 28 Mar 2020   Prob (F-statistic):            0.00933\n",
            "Time:                        00:59:26   Log-Likelihood:                -126.52\n",
            "No. Observations:                  40   AIC:                             261.0\n",
            "Df Residuals:                      36   BIC:                             267.8\n",
            "Df Model:                           3                                         \n",
            "Covariance Type:            nonrobust                                         \n",
            "=======================================================================================\n",
            "                          coef    std err          t      P>|t|      [0.025      0.975]\n",
            "---------------------------------------------------------------------------------------\n",
            "Intercept              35.7000      1.907     18.721      0.000      31.833      39.567\n",
            "C(Merek)[T.oppo]        5.4000      2.697      2.002      0.053      -0.069      10.869\n",
            "C(Merek)[T.samsung]     9.6000      2.697      3.560      0.001       4.131      15.069\n",
            "C(Merek)[T.vivo]        3.3000      2.697      1.224      0.229      -2.169       8.769\n",
            "==============================================================================\n",
            "Omnibus:                        1.287   Durbin-Watson:                   1.414\n",
            "Prob(Omnibus):                  0.525   Jarque-Bera (JB):                1.258\n",
            "Skew:                           0.385   Prob(JB):                        0.533\n",
            "Kurtosis:                       2.599   Cond. No.                         4.79\n",
            "==============================================================================\n",
            "\n",
            "Warnings:\n",
            "[1] Standard Errors assume that the covariance matrix of the errors is correctly specified.\n",
            "            df    sum_sq     mean_sq         F    PR(>F)\n",
            "C(Merek)   3.0   484.875  161.625000  4.444657  0.009329\n",
            "Residual  36.0  1309.100   36.363889       NaN       NaN\n"
          ],
          "name": "stdout"
        }
      ]
    },
    {
      "cell_type": "code",
      "metadata": {
        "id": "jWPOCSAOqTrE",
        "colab_type": "code",
        "outputId": "33228f15-5395-4e74-951b-b4e260afc645",
        "colab": {
          "base_uri": "https://localhost:8080/",
          "height": 208
        }
      },
      "source": [
        "#Interpretation time!\n",
        "#jawaban dari nomer 1 dan 3 adalah: Ya, merek HP mempengaruhi hasil penjualan, ini bisa dilihat dari\n",
        "#nilai prob (F-statistik) = 0,009, yang kurang dari 0,05. Artinya kita terima H1, yaitu ada perbedaan\n",
        "#rata-rata penjualan yang nyata antara salah satu atau beberapa kelompok dari merek HP tersebut\n",
        "#untuk menjawab no 4, kelompok mana yang yang berbeda, kita akan lakukan uji post-hoc\n",
        "\n",
        "post_hoc = MultiComparison(aov.penjualan, aov.Merek).tukeyhsd()\n",
        "print(post_hoc)"
      ],
      "execution_count": 32,
      "outputs": [
        {
          "output_type": "stream",
          "text": [
            "  Multiple Comparison of Means - Tukey HSD, FWER=0.05  \n",
            "=======================================================\n",
            " group1  group2 meandiff p-adj   lower    upper  reject\n",
            "-------------------------------------------------------\n",
            " lenovo    oppo      5.4 0.2061  -1.8632 12.6632  False\n",
            " lenovo samsung      9.6 0.0056   2.3368 16.8632   True\n",
            " lenovo    vivo      3.3 0.6042  -3.9632 10.5632  False\n",
            "   oppo samsung      4.2 0.4165  -3.0632 11.4632  False\n",
            "   oppo    vivo     -2.1 0.8499  -9.3632  5.1632  False\n",
            "samsung    vivo     -6.3 0.1088 -13.5632  0.9632  False\n",
            "-------------------------------------------------------\n"
          ],
          "name": "stdout"
        }
      ]
    },
    {
      "cell_type": "code",
      "metadata": {
        "id": "XtkDB4MDuzjC",
        "colab_type": "code",
        "colab": {}
      },
      "source": [
        "#Wah ternyata rata-rata penjualan yang berbeda signifikan itu jatuh pada merek samsung dan lenovo\n",
        "#dilihat dari kolom reject untuk lenovo dan samsung adalah True, artinya kita menolak H0\n",
        "#Terakhir kita akan mengukur kekuatan efek pengaruh merek HP terhadap hasil penjualan dengan\n",
        "#menggunakan rumus dibawah\n",
        "pass"
      ],
      "execution_count": 0,
      "outputs": []
    },
    {
      "cell_type": "markdown",
      "metadata": {
        "id": "IHaOxJzT4eoa",
        "colab_type": "text"
      },
      "source": [
        "$ \\frac{SS_M - df_M\\times MS_R}{SS_T + MS_R} $"
      ]
    },
    {
      "cell_type": "code",
      "metadata": {
        "id": "Vu-ZzSc32cjK",
        "colab_type": "code",
        "outputId": "75d793a6-a3ca-4eab-b723-0caef4bb8741",
        "colab": {
          "base_uri": "https://localhost:8080/",
          "height": 110
        }
      },
      "source": [
        "SSM, dfM = aov_df['sum_sq'][:-1], aov_df['df'][0]\n",
        "MSR, SST = aov_df['mean_sq'][-1], sum(aov_df['sum_sq'])\n",
        "pembilang = SSM - dfM*MSR\n",
        "penyebut = SST + MSR\n",
        "aov_df['omega'] = pembilang / penyebut\n",
        "aov_df"
      ],
      "execution_count": 34,
      "outputs": [
        {
          "output_type": "execute_result",
          "data": {
            "text/html": [
              "<div>\n",
              "<style scoped>\n",
              "    .dataframe tbody tr th:only-of-type {\n",
              "        vertical-align: middle;\n",
              "    }\n",
              "\n",
              "    .dataframe tbody tr th {\n",
              "        vertical-align: top;\n",
              "    }\n",
              "\n",
              "    .dataframe thead th {\n",
              "        text-align: right;\n",
              "    }\n",
              "</style>\n",
              "<table border=\"1\" class=\"dataframe\">\n",
              "  <thead>\n",
              "    <tr style=\"text-align: right;\">\n",
              "      <th></th>\n",
              "      <th>df</th>\n",
              "      <th>sum_sq</th>\n",
              "      <th>mean_sq</th>\n",
              "      <th>F</th>\n",
              "      <th>PR(&gt;F)</th>\n",
              "      <th>omega</th>\n",
              "    </tr>\n",
              "  </thead>\n",
              "  <tbody>\n",
              "    <tr>\n",
              "      <th>C(Merek)</th>\n",
              "      <td>3.0</td>\n",
              "      <td>484.875</td>\n",
              "      <td>161.625000</td>\n",
              "      <td>4.444657</td>\n",
              "      <td>0.009329</td>\n",
              "      <td>0.205308</td>\n",
              "    </tr>\n",
              "    <tr>\n",
              "      <th>Residual</th>\n",
              "      <td>36.0</td>\n",
              "      <td>1309.100</td>\n",
              "      <td>36.363889</td>\n",
              "      <td>NaN</td>\n",
              "      <td>NaN</td>\n",
              "      <td>NaN</td>\n",
              "    </tr>\n",
              "  </tbody>\n",
              "</table>\n",
              "</div>"
            ],
            "text/plain": [
              "            df    sum_sq     mean_sq         F    PR(>F)     omega\n",
              "C(Merek)   3.0   484.875  161.625000  4.444657  0.009329  0.205308\n",
              "Residual  36.0  1309.100   36.363889       NaN       NaN       NaN"
            ]
          },
          "metadata": {
            "tags": []
          },
          "execution_count": 34
        }
      ]
    },
    {
      "cell_type": "code",
      "metadata": {
        "id": "2HtdZXXs99D6",
        "colab_type": "code",
        "colab": {}
      },
      "source": [
        "#dari tabel diatas, karena nilai omega yang kita dapatkan .2, maka efek yang diberikan merek HP\n",
        "#terhadap hasil penjualan dapat dikatakan sangat lemah\n",
        "pass"
      ],
      "execution_count": 0,
      "outputs": []
    },
    {
      "cell_type": "code",
      "metadata": {
        "id": "wSA3bWnFDqRy",
        "colab_type": "code",
        "outputId": "43dce97c-6f90-48e6-80bf-07ced4ac9f3b",
        "colab": {
          "base_uri": "https://localhost:8080/",
          "height": 202
        }
      },
      "source": [
        "#Selanjutnya kita akan menambah jumlah prediktor (anova 2 jalur)\n",
        "#berikut disajikan tabel nya\n",
        "\n",
        "aov2 = pd.read_csv('/content/aov_2jalur.csv')\n",
        "aov2.head()"
      ],
      "execution_count": 57,
      "outputs": [
        {
          "output_type": "execute_result",
          "data": {
            "text/html": [
              "<div>\n",
              "<style scoped>\n",
              "    .dataframe tbody tr th:only-of-type {\n",
              "        vertical-align: middle;\n",
              "    }\n",
              "\n",
              "    .dataframe tbody tr th {\n",
              "        vertical-align: top;\n",
              "    }\n",
              "\n",
              "    .dataframe thead th {\n",
              "        text-align: right;\n",
              "    }\n",
              "</style>\n",
              "<table border=\"1\" class=\"dataframe\">\n",
              "  <thead>\n",
              "    <tr style=\"text-align: right;\">\n",
              "      <th></th>\n",
              "      <th>Unnamed: 0</th>\n",
              "      <th>Unnamed: 0.1</th>\n",
              "      <th>Jenis_kelamin</th>\n",
              "      <th>masa_kerja</th>\n",
              "      <th>Gaji</th>\n",
              "    </tr>\n",
              "  </thead>\n",
              "  <tbody>\n",
              "    <tr>\n",
              "      <th>0</th>\n",
              "      <td>0</td>\n",
              "      <td>2</td>\n",
              "      <td>1</td>\n",
              "      <td>1</td>\n",
              "      <td>2.5</td>\n",
              "    </tr>\n",
              "    <tr>\n",
              "      <th>1</th>\n",
              "      <td>1</td>\n",
              "      <td>3</td>\n",
              "      <td>1</td>\n",
              "      <td>2</td>\n",
              "      <td>3.2</td>\n",
              "    </tr>\n",
              "    <tr>\n",
              "      <th>2</th>\n",
              "      <td>2</td>\n",
              "      <td>4</td>\n",
              "      <td>1</td>\n",
              "      <td>2</td>\n",
              "      <td>3.7</td>\n",
              "    </tr>\n",
              "    <tr>\n",
              "      <th>3</th>\n",
              "      <td>3</td>\n",
              "      <td>5</td>\n",
              "      <td>1</td>\n",
              "      <td>3</td>\n",
              "      <td>2.2</td>\n",
              "    </tr>\n",
              "    <tr>\n",
              "      <th>4</th>\n",
              "      <td>4</td>\n",
              "      <td>6</td>\n",
              "      <td>1</td>\n",
              "      <td>2</td>\n",
              "      <td>2.5</td>\n",
              "    </tr>\n",
              "  </tbody>\n",
              "</table>\n",
              "</div>"
            ],
            "text/plain": [
              "   Unnamed: 0  Unnamed: 0.1  Jenis_kelamin  masa_kerja  Gaji\n",
              "0           0             2              1           1   2.5\n",
              "1           1             3              1           2   3.2\n",
              "2           2             4              1           2   3.7\n",
              "3           3             5              1           3   2.2\n",
              "4           4             6              1           2   2.5"
            ]
          },
          "metadata": {
            "tags": []
          },
          "execution_count": 57
        }
      ]
    },
    {
      "cell_type": "code",
      "metadata": {
        "id": "YCvcwDfSZJ1T",
        "colab_type": "code",
        "colab": {}
      },
      "source": [
        "#untuk kolom jenis kelamin, 0 = female, 1 = male, satuan masa kerja dalam tahun\n",
        "\n",
        "#Hal-hal yang ingin kita tanyakan dalam tabel diatas adalah\n",
        "#1. Apakah jenis kelamin mempengaruhi gaji,  \n",
        "#2. Apakah masa kerja mempengaruhi gaji\n",
        "#3. Apakah interaksi antara jenis kelamin dan masa kerja mempengaruhi besaran gaji yang didapat?\n",
        "\n",
        "#kita akan drop dulu kolom Unnamed: 0 dan Unnamed: 0.1, karena kita tidak membutuhannya dalam analisis\n",
        "aov2.drop(['Unnamed: 0', 'Unnamed: 0.1'], axis=1, inplace=True)"
      ],
      "execution_count": 0,
      "outputs": []
    },
    {
      "cell_type": "code",
      "metadata": {
        "id": "ZNT3nOwDxrws",
        "colab_type": "code",
        "colab": {
          "base_uri": "https://localhost:8080/",
          "height": 661
        },
        "outputId": "d4f993f3-ce7a-4513-989f-672225b1f89f"
      },
      "source": [
        "#kita akan mengetes faktor jenis kelamin, masa kerja dan interaksinya terhadap gai\n",
        "model = ols('Gaji ~ C(Jenis_kelamin)*C(masa_kerja) ',data=aov2).fit()\n",
        "aov2_df = anova_lm(model)\n",
        "print(model.summary())\n",
        "print(aov2_df)"
      ],
      "execution_count": 61,
      "outputs": [
        {
          "output_type": "stream",
          "text": [
            "                            OLS Regression Results                            \n",
            "==============================================================================\n",
            "Dep. Variable:                   Gaji   R-squared:                       0.663\n",
            "Model:                            OLS   Adj. R-squared:                  0.620\n",
            "Method:                 Least Squares   F-statistic:                     15.35\n",
            "Date:                Sat, 28 Mar 2020   Prob (F-statistic):           2.45e-08\n",
            "Time:                        02:17:20   Log-Likelihood:                -23.119\n",
            "No. Observations:                  45   AIC:                             58.24\n",
            "Df Residuals:                      39   BIC:                             69.08\n",
            "Df Model:                           5                                         \n",
            "Covariance Type:            nonrobust                                         \n",
            "============================================================================================================\n",
            "                                               coef    std err          t      P>|t|      [0.025      0.975]\n",
            "------------------------------------------------------------------------------------------------------------\n",
            "Intercept                                    3.7200      0.194     19.145      0.000       3.327       4.113\n",
            "C(Jenis_kelamin)[T.1]                       -0.2800      0.238     -1.177      0.246      -0.761       0.201\n",
            "C(masa_kerja)[T.2]                          -0.5000      0.238     -2.101      0.042      -0.981      -0.019\n",
            "C(masa_kerja)[T.3]                          -1.6771      0.254     -6.593      0.000      -2.192      -1.163\n",
            "C(Jenis_kelamin)[T.1]:C(masa_kerja)[T.2]     0.1800      0.337      0.535      0.596      -0.501       0.861\n",
            "C(Jenis_kelamin)[T.1]:C(masa_kerja)[T.3]     0.6246      0.327      1.908      0.064      -0.038       1.287\n",
            "==============================================================================\n",
            "Omnibus:                        2.878   Durbin-Watson:                   1.693\n",
            "Prob(Omnibus):                  0.237   Jarque-Bera (JB):                1.812\n",
            "Skew:                           0.378   Prob(JB):                        0.404\n",
            "Kurtosis:                       3.628   Cond. No.                         10.8\n",
            "==============================================================================\n",
            "\n",
            "Warnings:\n",
            "[1] Standard Errors assume that the covariance matrix of the errors is correctly specified.\n",
            "                                  df     sum_sq  ...          F        PR(>F)\n",
            "C(Jenis_kelamin)                 1.0   0.023031  ...   0.122007  7.287474e-01\n",
            "C(masa_kerja)                    2.0  13.722785  ...  36.348575  1.227267e-09\n",
            "C(Jenis_kelamin):C(masa_kerja)   2.0   0.738069  ...   1.954978  1.551949e-01\n",
            "Residual                        39.0   7.361893  ...        NaN           NaN\n",
            "\n",
            "[4 rows x 5 columns]\n"
          ],
          "name": "stdout"
        }
      ]
    },
    {
      "cell_type": "code",
      "metadata": {
        "id": "iGbcRlDT2Rjx",
        "colab_type": "code",
        "colab": {
          "base_uri": "https://localhost:8080/",
          "height": 520
        },
        "outputId": "c3399314-a9fe-404b-90e1-7e5b74439022"
      },
      "source": [
        "#interpretation time!\n",
        "#Secara keseluruhan, model yang kita miliki signifikan terhadap variable target (gaji), ini bisa\n",
        "#dilihat dari nilai Pvalue = Prob (Fstat) pada tabel OLS < 0,05\n",
        "\n",
        "#Kemudian di tabel kedua, nilai Pvalue untuk jenis kelamin > 0,05, yaitu 0,72, ini berarti bahwa\n",
        "#jenis kelamin tidak mempengaruhi besaran gaji\n",
        "\n",
        "#Juga nilai Pvalue untuk interaksi antara Jenis kelamin dan masa kerja > 0,05, ini berarti bahwa\n",
        "#interaksi mereka tidak memberikan perbedaan yang signifikan terhadap besaran gaji\n",
        "\n",
        "#Nah karena jenis kelamin dan interaksi jenis kelamin dengan masa kerja itu tidak signifikan, maka\n",
        "#kita akan remove mereka dari model, kita akan menjalankan model baru tanpa mereka\n",
        "\n",
        "model_new = ols('Gaji ~ C(masa_kerja)', data=aov2).fit()\n",
        "aov2_df = anova_lm(model_new)\n",
        "print(model_new.summary())\n",
        "print(aov2_df)"
      ],
      "execution_count": 64,
      "outputs": [
        {
          "output_type": "stream",
          "text": [
            "                            OLS Regression Results                            \n",
            "==============================================================================\n",
            "Dep. Variable:                   Gaji   R-squared:                       0.629\n",
            "Model:                            OLS   Adj. R-squared:                  0.612\n",
            "Method:                 Least Squares   F-statistic:                     35.64\n",
            "Date:                Sat, 28 Mar 2020   Prob (F-statistic):           8.94e-10\n",
            "Time:                        02:39:04   Log-Likelihood:                -25.269\n",
            "No. Observations:                  45   AIC:                             56.54\n",
            "Df Residuals:                      42   BIC:                             61.96\n",
            "Df Model:                           2                                         \n",
            "Covariance Type:            nonrobust                                         \n",
            "======================================================================================\n",
            "                         coef    std err          t      P>|t|      [0.025      0.975]\n",
            "--------------------------------------------------------------------------------------\n",
            "Intercept              3.5333      0.113     31.161      0.000       3.305       3.762\n",
            "C(masa_kerja)[T.2]    -0.3467      0.160     -2.162      0.036      -0.670      -0.023\n",
            "C(masa_kerja)[T.3]    -1.3067      0.160     -8.148      0.000      -1.630      -0.983\n",
            "==============================================================================\n",
            "Omnibus:                        4.699   Durbin-Watson:                   1.523\n",
            "Prob(Omnibus):                  0.095   Jarque-Bera (JB):                3.833\n",
            "Skew:                           0.428   Prob(JB):                        0.147\n",
            "Kurtosis:                       4.146   Cond. No.                         3.73\n",
            "==============================================================================\n",
            "\n",
            "Warnings:\n",
            "[1] Standard Errors assume that the covariance matrix of the errors is correctly specified.\n",
            "                 df     sum_sq   mean_sq          F        PR(>F)\n",
            "C(masa_kerja)   2.0  13.745778  6.872889  35.637202  8.942679e-10\n",
            "Residual       42.0   8.100000  0.192857        NaN           NaN\n"
          ],
          "name": "stdout"
        }
      ]
    },
    {
      "cell_type": "code",
      "metadata": {
        "id": "dMHb9ggmAtO9",
        "colab_type": "code",
        "colab": {}
      },
      "source": [
        "#Wah ternyata model baru yang baru kita buat lebih baik dari model sebelumnya, ini bisa dilihat\n",
        "#dari nilai AIC pada model baru kita lebih kecil dari nilai AIC pada model sebelumnya\n",
        "#makin kecil nilai AIC, makin bagus suatu model\n",
        "\n",
        "#Ok, jadi sampai disini, hanya masa kerja lah yang memberi efek terhadap besaran gaji\n",
        "\n",
        "#Pertanyaan selanjutnya adalah, \n",
        "#1. Seberapa besar efeknya? \n",
        "#2. Mereka yang bekerja berapa tahunkah yang gajinya berbeda signifikan dengan yang lain?\n",
        "pass"
      ],
      "execution_count": 0,
      "outputs": []
    },
    {
      "cell_type": "code",
      "metadata": {
        "id": "C6QPixEgDZsH",
        "colab_type": "code",
        "colab": {
          "base_uri": "https://localhost:8080/",
          "height": 156
        },
        "outputId": "cefb3a07-19bb-47dc-d644-cf63676a5bc8"
      },
      "source": [
        "#Untuk menjawab soal no 2, kita bisa gunakan dua cara, yaitu tukeyhsd dan bonferroni test\n",
        "#Cara 1, dengan tukeyhsd:\n",
        "tukey = MultiComparison(aov2.Gaji, aov2.masa_kerja).tukeyhsd()\n",
        "print(tukey)"
      ],
      "execution_count": 66,
      "outputs": [
        {
          "output_type": "stream",
          "text": [
            "Multiple Comparison of Means - Tukey HSD, FWER=0.05 \n",
            "====================================================\n",
            "group1 group2 meandiff p-adj   lower   upper  reject\n",
            "----------------------------------------------------\n",
            "     1      2  -0.3467 0.0897 -0.7362  0.0429  False\n",
            "     1      3  -1.3067  0.001 -1.6962 -0.9171   True\n",
            "     2      3    -0.96  0.001 -1.3496 -0.5704   True\n",
            "----------------------------------------------------\n"
          ],
          "name": "stdout"
        }
      ]
    },
    {
      "cell_type": "code",
      "metadata": {
        "id": "LmO2oygOD9r5",
        "colab_type": "code",
        "colab": {}
      },
      "source": [
        "#Well, ternyata yang besar gajinya berbeda secara nyata adalah antara mereka yang masa kerjanya\n",
        "#1 tahun dan 3 tahun, juga antara mereka yang masa kerjanya 2 tahun dengan 3 tahun\n",
        "pass"
      ],
      "execution_count": 0,
      "outputs": []
    },
    {
      "cell_type": "code",
      "metadata": {
        "id": "5T49w4t3EpyS",
        "colab_type": "code",
        "colab": {}
      },
      "source": [
        "#Cara dua, Bonferroni test:\n",
        "#Bonferroni test sama dengan uji t saling lepas untuk tiap dua grup, tetapi dengan Pvalue yang\n",
        "#baru, Pvalue yang baru = Pvalue lama / banyak grup\n",
        "\n",
        "new_pvalue = .05 / 3\n",
        "def bonferroni(*args, **kwargs):\n",
        "  data, Pvalue, grup = [], [], []\n",
        "  for i in args:\n",
        "    data.append(i)\n",
        "  data = list(combinations(data, 2))\n",
        "  for i in data:\n",
        "    t_stat, t_pvalue = stats.ttest_ind(i[0], i[1])\n",
        "    Pvalue.append(t_pvalue)\n",
        "  for i in kwargs:\n",
        "    grup.append(i)\n",
        "  grup = list(combinations(grup, 2))\n",
        "\n",
        "  bon_df = pd.DataFrame({'grup':grup, 'Pvalue':Pvalue})\n",
        "  bon_df['Tolak'] = 'No'\n",
        "  bon_df.loc[bon_df['Pvalue'] < new_pvalue, 'Tolak'] = 'yes'\n",
        "  return bon_df"
      ],
      "execution_count": 0,
      "outputs": []
    },
    {
      "cell_type": "code",
      "metadata": {
        "id": "T63p_FWhNIqK",
        "colab_type": "code",
        "colab": {
          "base_uri": "https://localhost:8080/",
          "height": 141
        },
        "outputId": "41c41d02-1a60-429b-f16a-dfd82ce436cd"
      },
      "source": [
        "tahun_1, tahun_2 = aov2.Gaji[aov2['masa_kerja']==1], aov2.Gaji[aov2['masa_kerja']==2]\n",
        "tahun_3 = aov2.Gaji[aov2['masa_kerja']==3]\n",
        "\n",
        "bonferroni(tahun_1, tahun_2, tahun_3,\n",
        "           tahun_1='grup1', tahun_2='grup2', tahun_3='grup3')"
      ],
      "execution_count": 97,
      "outputs": [
        {
          "output_type": "execute_result",
          "data": {
            "text/html": [
              "<div>\n",
              "<style scoped>\n",
              "    .dataframe tbody tr th:only-of-type {\n",
              "        vertical-align: middle;\n",
              "    }\n",
              "\n",
              "    .dataframe tbody tr th {\n",
              "        vertical-align: top;\n",
              "    }\n",
              "\n",
              "    .dataframe thead th {\n",
              "        text-align: right;\n",
              "    }\n",
              "</style>\n",
              "<table border=\"1\" class=\"dataframe\">\n",
              "  <thead>\n",
              "    <tr style=\"text-align: right;\">\n",
              "      <th></th>\n",
              "      <th>grup</th>\n",
              "      <th>Pvalue</th>\n",
              "      <th>Tolak</th>\n",
              "    </tr>\n",
              "  </thead>\n",
              "  <tbody>\n",
              "    <tr>\n",
              "      <th>0</th>\n",
              "      <td>(tahun_1, tahun_2)</td>\n",
              "      <td>4.189084e-02</td>\n",
              "      <td>No</td>\n",
              "    </tr>\n",
              "    <tr>\n",
              "      <th>1</th>\n",
              "      <td>(tahun_1, tahun_3)</td>\n",
              "      <td>9.703616e-10</td>\n",
              "      <td>yes</td>\n",
              "    </tr>\n",
              "    <tr>\n",
              "      <th>2</th>\n",
              "      <td>(tahun_2, tahun_3)</td>\n",
              "      <td>5.636262e-06</td>\n",
              "      <td>yes</td>\n",
              "    </tr>\n",
              "  </tbody>\n",
              "</table>\n",
              "</div>"
            ],
            "text/plain": [
              "                 grup        Pvalue Tolak\n",
              "0  (tahun_1, tahun_2)  4.189084e-02    No\n",
              "1  (tahun_1, tahun_3)  9.703616e-10   yes\n",
              "2  (tahun_2, tahun_3)  5.636262e-06   yes"
            ]
          },
          "metadata": {
            "tags": []
          },
          "execution_count": 97
        }
      ]
    },
    {
      "cell_type": "code",
      "metadata": {
        "id": "H79ucTRIL0_F",
        "colab_type": "code",
        "colab": {
          "base_uri": "https://localhost:8080/",
          "height": 156
        },
        "outputId": "cf56624a-b9f4-4666-a371-b85622ba1651"
      },
      "source": [
        "#Ok ok, dan bonferroni test dengan tukeyhsd sama saja ^_^\n",
        "\n",
        "#Lebih lanjut, jika ingin menguji asumsi dari test ini, kita tinggal eksekusi kode dibawah\n",
        "model_new.diagn"
      ],
      "execution_count": 94,
      "outputs": [
        {
          "output_type": "execute_result",
          "data": {
            "text/plain": [
              "{'condno': 3.7320508075688776,\n",
              " 'jb': 3.8325743432840165,\n",
              " 'jbpv': 0.14715230036399457,\n",
              " 'kurtosis': 4.145830086877002,\n",
              " 'mineigval': 4.019237886466839,\n",
              " 'omni': 4.699147977499592,\n",
              " 'omnipv': 0.09540979920686912,\n",
              " 'skew': 0.42752574827690737}"
            ]
          },
          "metadata": {
            "tags": []
          },
          "execution_count": 94
        }
      ]
    },
    {
      "cell_type": "code",
      "metadata": {
        "id": "S1JR9glfZC3t",
        "colab_type": "code",
        "colab": {}
      },
      "source": [
        "#condno = conditional number, ini adalah multikolinearitas test, ia memberi informasi apakah antar\n",
        "#grup itu ada keterhubungan, kalau nilainya > 20, maka ada gejala multikolinearitas\n",
        "\n",
        "#jb = Jarque-Bera dengan nilai Pvalue = jbpv = 0, 14, bahwa tiap grup mengikuti distribusi Gauss (normal)\n",
        "#omni = Omnibus dengan nilai Pvalue = omnipv = 0,09, bahwa tiap grup homogen\n",
        "\n",
        "#Selanjutnya akan kita ukur kekuatan efek masa kerja terhadap perbedaan gaji dengan rumus yang sama\n",
        "#seperti sebelumnya\n",
        "pass"
      ],
      "execution_count": 0,
      "outputs": []
    },
    {
      "cell_type": "code",
      "metadata": {
        "id": "oIO4DJjAcQ3j",
        "colab_type": "code",
        "colab": {
          "base_uri": "https://localhost:8080/",
          "height": 110
        },
        "outputId": "28b406e4-7016-46ff-c104-30875a5a37ca"
      },
      "source": [
        "SSM, dfM = aov2_df['sum_sq'][:-1], aov2_df['df'][0]\n",
        "MSR, SST = aov2_df['mean_sq'][-1], sum(aov2_df['sum_sq'])\n",
        "pembilang = SSM - dfM*MSR\n",
        "penyebut = SST + MSR\n",
        "aov2_df['omega'] = pembilang / penyebut\n",
        "aov2_df"
      ],
      "execution_count": 99,
      "outputs": [
        {
          "output_type": "execute_result",
          "data": {
            "text/html": [
              "<div>\n",
              "<style scoped>\n",
              "    .dataframe tbody tr th:only-of-type {\n",
              "        vertical-align: middle;\n",
              "    }\n",
              "\n",
              "    .dataframe tbody tr th {\n",
              "        vertical-align: top;\n",
              "    }\n",
              "\n",
              "    .dataframe thead th {\n",
              "        text-align: right;\n",
              "    }\n",
              "</style>\n",
              "<table border=\"1\" class=\"dataframe\">\n",
              "  <thead>\n",
              "    <tr style=\"text-align: right;\">\n",
              "      <th></th>\n",
              "      <th>df</th>\n",
              "      <th>sum_sq</th>\n",
              "      <th>mean_sq</th>\n",
              "      <th>F</th>\n",
              "      <th>PR(&gt;F)</th>\n",
              "      <th>omega</th>\n",
              "    </tr>\n",
              "  </thead>\n",
              "  <tbody>\n",
              "    <tr>\n",
              "      <th>C(masa_kerja)</th>\n",
              "      <td>2.0</td>\n",
              "      <td>13.745778</td>\n",
              "      <td>6.872889</td>\n",
              "      <td>35.637202</td>\n",
              "      <td>8.942679e-10</td>\n",
              "      <td>0.606211</td>\n",
              "    </tr>\n",
              "    <tr>\n",
              "      <th>Residual</th>\n",
              "      <td>42.0</td>\n",
              "      <td>8.100000</td>\n",
              "      <td>0.192857</td>\n",
              "      <td>NaN</td>\n",
              "      <td>NaN</td>\n",
              "      <td>NaN</td>\n",
              "    </tr>\n",
              "  </tbody>\n",
              "</table>\n",
              "</div>"
            ],
            "text/plain": [
              "                 df     sum_sq   mean_sq          F        PR(>F)     omega\n",
              "C(masa_kerja)   2.0  13.745778  6.872889  35.637202  8.942679e-10  0.606211\n",
              "Residual       42.0   8.100000  0.192857        NaN           NaN       NaN"
            ]
          },
          "metadata": {
            "tags": []
          },
          "execution_count": 99
        }
      ]
    },
    {
      "cell_type": "code",
      "metadata": {
        "id": "D_oaLlrGd9_e",
        "colab_type": "code",
        "colab": {}
      },
      "source": [
        "#Untuk nilai omega yang terletak pada interval 0,5 sampai 0,8, kategorinya adalah sedang\n",
        "#Jadi, intensitas efek masa_kerja terhadap gaji adalah sedang\n",
        "pass"
      ],
      "execution_count": 0,
      "outputs": []
    },
    {
      "cell_type": "code",
      "metadata": {
        "id": "aPnjNNbxmVWA",
        "colab_type": "code",
        "colab": {}
      },
      "source": [
        "#Pada saat kita melakukan uji anova diatas, tiap pasang grup lulus uji normalitasnya, bagaimana jika\n",
        "#salah satu dari pasangan grup tidak memenuhi uji normalitas?\n",
        "#maka uji yang tepat kita lakukan adalah uji nonparametrik Kruskal-Wallis (jika tiap grup berpasangan)\n",
        "#dan Friedman (jika tiap grup berpasangan)\n",
        "\n",
        "#Sebagai contoh, disajikan tiga buah grup berikut\n",
        "g1 = np.array([30, 40, 20, 60, 20, 50])\n",
        "g2 = np.array([90, 70, 50, 100, 60, 80])\n",
        "g3 = np.array([45, 65, 50, 85, 62, 83])\n",
        "\n",
        "#kita akan cek apakah ada pasangan dari grup itu yang tidak mengikuti distribusi Gauss\n",
        "#Cara dua, Bonferroni test:\n",
        "\n",
        "def cek_normal(*args):\n",
        "  data, Pvalue, = [], []\n",
        "  for i in args:\n",
        "    data.append(i)\n",
        "  data = list(combinations(data, 2))\n",
        "  for i in data:\n",
        "    normal, Pnormal = stats.shapiro(i[0] - i[1])\n",
        "    Pvalue.append(Pnormal)\n",
        "  print(Pvalue)"
      ],
      "execution_count": 0,
      "outputs": []
    },
    {
      "cell_type": "code",
      "metadata": {
        "id": "fcfhN1VbqYy7",
        "colab_type": "code",
        "colab": {
          "base_uri": "https://localhost:8080/",
          "height": 35
        },
        "outputId": "0a84ef37-b563-496b-ccaf-331901568a76"
      },
      "source": [
        "cek_normal(g1, g2, g3)"
      ],
      "execution_count": 129,
      "outputs": [
        {
          "output_type": "stream",
          "text": [
            "[0.032937321811914444, 0.9359415173530579, 0.03174012526869774]\n"
          ],
          "name": "stdout"
        }
      ]
    },
    {
      "cell_type": "code",
      "metadata": {
        "id": "oG0e3-QgstRy",
        "colab_type": "code",
        "colab": {}
      },
      "source": [
        "#Nah, karena ada dua pasang grup yang nilai Pvalue nya dibawah 0,05, maka uji nonparametrik\n",
        "#Kruskal lebih cocok daripada Anova\n",
        "\n",
        "#membua helper-function untuk uji nonparametrik lebih dari dua grup:\n",
        "def nonparametrik_3(x1, x2, x3, berpasangan=False):\n",
        "  if berpasangan==False:\n",
        "    stat, Pvalue = stats.kruskal(x1, x2, x3)\n",
        "    if Pvalue > .05:\n",
        "      print(' [Uji Kruskal] Terima H0, tidak ada perbedaan yang nyata antar grup')\n",
        "    else: print('[Uji Kruskal] Tolak H0, ada perbedaan yang signifikan antar grup')\n",
        "  else:\n",
        "    stat, Pvalue = stats.friedmanchisquare(x1, x2, x3)\n",
        "    if Pvalue > .05:\n",
        "      print('[Uji Friedman] Terima H0, tidak ada perbedaan yang signifikan antar grup')\n",
        "    else: print('[Uji Friedman] Tolak H0, ada perbedaan yang berarti antar grup')  \n",
        "\n"
      ],
      "execution_count": 0,
      "outputs": []
    },
    {
      "cell_type": "code",
      "metadata": {
        "id": "bYE_FAGI5bp3",
        "colab_type": "code",
        "colab": {
          "base_uri": "https://localhost:8080/",
          "height": 87
        },
        "outputId": "253321d0-bbfb-456e-8490-25157f502f57"
      },
      "source": [
        "#Melakukan Uji Kruskal dan Friedman\n",
        "print(nonparametrik_3(g1, g2, g3))\n",
        "print(nonparametrik_3(g1, g2, g3, berpasangan=True))"
      ],
      "execution_count": 134,
      "outputs": [
        {
          "output_type": "stream",
          "text": [
            "[Uji Kruskal] Tolak H0, ada perbedaan yang signifikan antar grup\n",
            "None\n",
            "[Uji Friedman] Tolak H0, ada perbedaan yang berarti antar grup\n",
            "None\n"
          ],
          "name": "stdout"
        }
      ]
    },
    {
      "cell_type": "code",
      "metadata": {
        "id": "zjjSydqD6SFl",
        "colab_type": "code",
        "colab": {}
      },
      "source": [
        "# Terima Kasih #"
      ],
      "execution_count": 0,
      "outputs": []
    }
  ]
}